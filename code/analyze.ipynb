{
 "cells": [
  {
   "cell_type": "code",
   "execution_count": 28,
   "metadata": {},
   "outputs": [],
   "source": [
    "import matplotlib.pyplot as plt\n",
    "import pickle as pkl"
   ]
  },
  {
   "cell_type": "code",
   "execution_count": 29,
   "metadata": {},
   "outputs": [],
   "source": [
    "file_name = \"suspect%d_%d.pkl\"\n",
    "path = \"../output_data/\""
   ]
  },
  {
   "cell_type": "code",
   "execution_count": null,
   "metadata": {},
   "outputs": [
    {
     "name": "stdout",
     "output_type": "stream",
     "text": [
      "../output_data/suspect1_0.pkl\n",
      "Pa is 99.633391 percent\n",
      "Average Tmr is 0.207153\n",
      "../output_data/suspect1_2.pkl\n",
      "Pa is 99.387269 percent\n",
      "Average Tmr is 0.219287\n",
      "../output_data/suspect1_3.pkl\n",
      "Pa is 99.869545 percent\n",
      "Average Tmr is 0.218590\n",
      "../output_data/suspect1_4.pkl\n",
      "Pa is 97.667220 percent\n",
      "Average Tmr is 0.199095\n",
      "../output_data/suspect1_5.pkl\n",
      "Pa is 99.769030 percent\n",
      "Average Tmr is 0.215756\n",
      "../output_data/suspect1_6.pkl\n"
     ]
    }
   ],
   "source": [
    "for i in range(1,2):\n",
    "    for j in range(10):\n",
    "        if (j==i): continue\n",
    "        cur_file = path+file_name%(i,j)\n",
    "        print(cur_file)\n",
    "        f=open(cur_file, \"rb\")\n",
    "        suspect_intervals=pkl.load(f)\n",
    "        start_time=pkl.load(f)[1]\n",
    "        end_time=pkl.load(f)[1]\n",
    "        f.close()\n",
    "        \n",
    "        total_suspect_t=0\n",
    "        tmr=0\n",
    "        for (k, interval) in enumerate(suspect_intervals):\n",
    "            total_suspect_t+=interval[1]-interval[0]\n",
    "            if (k+1==len(suspect_intervals)): continue;\n",
    "            tmr += suspect_intervals[k+1][0]-suspect_intervals[k][1]\n",
    "        tmr/=len(suspect_intervals)-1\n",
    "        #print(total_suspect_t)\n",
    "        #print(end_time-start_time)\n",
    "        pa = 1-total_suspect_t/(end_time-start_time)\n",
    "        print(\"Pa is %f percent\"%(pa*100,))\n",
    "        print(\"Average Tmr is %f\"%(tmr/1e9))\n",
    "        #print(start_time, end_time)\n",
    "        "
   ]
  },
  {
   "cell_type": "code",
   "execution_count": null,
   "metadata": {},
   "outputs": [],
   "source": []
  }
 ],
 "metadata": {
  "kernelspec": {
   "display_name": "Python 3",
   "language": "python",
   "name": "python3"
  },
  "language_info": {
   "codemirror_mode": {
    "name": "ipython",
    "version": 3
   },
   "file_extension": ".py",
   "mimetype": "text/x-python",
   "name": "python",
   "nbconvert_exporter": "python",
   "pygments_lexer": "ipython3",
   "version": "3.6.7"
  }
 },
 "nbformat": 4,
 "nbformat_minor": 2
}
