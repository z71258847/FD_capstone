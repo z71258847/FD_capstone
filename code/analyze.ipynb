{
 "cells": [
  {
   "cell_type": "code",
   "execution_count": 1,
   "metadata": {},
   "outputs": [],
   "source": [
    "import matplotlib.pyplot as plt\n",
    "import pickle as pkl"
   ]
  },
  {
   "cell_type": "code",
   "execution_count": 2,
   "metadata": {},
   "outputs": [],
   "source": [
    "file_name = \"CNN_suspect%d_%d.pkl\"\n",
    "path = \"\"#\"../output_data/\""
   ]
  },
  {
   "cell_type": "code",
   "execution_count": 3,
   "metadata": {},
   "outputs": [
    {
     "name": "stdout",
     "output_type": "stream",
     "text": [
      "CNN_suspect1_0.pkl\n",
      "Pa is 99.738511 percent\n",
      "Average Tmr is 0.405559\n",
      "Average over_estimation is 0.001046\n",
      "Average TM is -0.001257\n",
      "Average cpt is 0.001931\n",
      "CNN_suspect1_2.pkl\n",
      "Pa is 99.513810 percent\n",
      "Average Tmr is 2.083790\n",
      "Average over_estimation is 0.001548\n",
      "Average TM is -0.017324\n",
      "Average cpt is 0.001919\n",
      "CNN_suspect1_3.pkl\n",
      "Pa is 99.892807 percent\n",
      "Average Tmr is 0.633702\n",
      "Average over_estimation is 0.000380\n",
      "Average TM is -0.000753\n",
      "Average cpt is 0.001932\n",
      "CNN_suspect1_4.pkl\n",
      "Pa is 98.270241 percent\n",
      "Average Tmr is 1.552226\n",
      "Average over_estimation is 0.005568\n",
      "Average TM is -0.031956\n",
      "Average cpt is 0.001927\n"
     ]
    }
   ],
   "source": [
    "for i in range(1,2):\n",
    "    for j in range(5):\n",
    "        if (j==i): continue\n",
    "        cur_file = path+file_name%(i,j)\n",
    "        print(cur_file)\n",
    "        f=open(cur_file, \"rb\")\n",
    "        suspect_intervals=pkl.load(f)\n",
    "        start_time=pkl.load(f)[1]\n",
    "        end_time=pkl.load(f)[1]\n",
    "        error_history=pkl.load(f)\n",
    "        computation_times=pkl.load(f)\n",
    "        f.close()\n",
    "        \n",
    "        total_suspect_t=0\n",
    "        tmr=0\n",
    "        for (k, interval) in enumerate(suspect_intervals):\n",
    "            total_suspect_t+=interval[1]-interval[0]\n",
    "            if (k+1==len(suspect_intervals)): continue;\n",
    "            tmr += suspect_intervals[k+1][0]-suspect_intervals[k][1]\n",
    "        tmr/=len(suspect_intervals)-1\n",
    "        #print(total_suspect_t)\n",
    "        #print(end_time-start_time)\n",
    "        pa = 1-total_suspect_t/(end_time-start_time)\n",
    "        print(\"Pa is %f percent\"%(pa*100,))\n",
    "        print(\"Average Tmr is %f\"%(tmr/1e9))\n",
    "        #print(start_time, end_time)\n",
    "        tot_over = 0;\n",
    "        time_over = 0;\n",
    "        tot_error = 0;\n",
    "        error_time = 0;\n",
    "        for (k, e) in enumerate(error_history):\n",
    "            if (k==0):\n",
    "                continue;\n",
    "            if (e<=0):\n",
    "                tot_over+=1;\n",
    "                time_over+=-e;\n",
    "            else:\n",
    "                tot_error+=1;\n",
    "                error_time+=-e;\n",
    "        tot_t=0;\n",
    "        for (k, e) in enumerate(computation_times):\n",
    "            tot_t += e;\n",
    "        print(\"Average over_estimation is %f\"%(time_over/tot_over))\n",
    "        print(\"Average TM is %f\"%(error_time/tot_error))\n",
    "        print(\"Average cpt is %f\"%(tot_t/len(computation_times)))\n",
    "            \n",
    "        "
   ]
  },
  {
   "cell_type": "code",
   "execution_count": 4,
   "metadata": {},
   "outputs": [],
   "source": [
    "file_name = \"Bertier_suspect%d_%d.pkl\"\n",
    "path = \"\"#\"../output_data/\""
   ]
  },
  {
   "cell_type": "code",
   "execution_count": 5,
   "metadata": {},
   "outputs": [
    {
     "name": "stdout",
     "output_type": "stream",
     "text": [
      "Bertier_suspect1_0.pkl\n",
      "Pa is 99.633391 percent\n",
      "Average Tmr is 0.207153\n",
      "Average over_estimation is 0.000707\n",
      "Average TM is -0.000862\n",
      "Average cpt is 0.000004\n",
      "Bertier_suspect1_2.pkl\n"
     ]
    },
    {
     "ename": "FileNotFoundError",
     "evalue": "[Errno 2] No such file or directory: 'Bertier_suspect1_2.pkl'",
     "output_type": "error",
     "traceback": [
      "\u001b[0;31m---------------------------------------------------------------------------\u001b[0m",
      "\u001b[0;31mFileNotFoundError\u001b[0m                         Traceback (most recent call last)",
      "\u001b[0;32m<ipython-input-5-76c29354dadc>\u001b[0m in \u001b[0;36m<module>\u001b[0;34m()\u001b[0m\n\u001b[1;32m      4\u001b[0m         \u001b[0mcur_file\u001b[0m \u001b[0;34m=\u001b[0m \u001b[0mpath\u001b[0m\u001b[0;34m+\u001b[0m\u001b[0mfile_name\u001b[0m\u001b[0;34m%\u001b[0m\u001b[0;34m(\u001b[0m\u001b[0mi\u001b[0m\u001b[0;34m,\u001b[0m\u001b[0mj\u001b[0m\u001b[0;34m)\u001b[0m\u001b[0;34m\u001b[0m\u001b[0m\n\u001b[1;32m      5\u001b[0m         \u001b[0mprint\u001b[0m\u001b[0;34m(\u001b[0m\u001b[0mcur_file\u001b[0m\u001b[0;34m)\u001b[0m\u001b[0;34m\u001b[0m\u001b[0m\n\u001b[0;32m----> 6\u001b[0;31m         \u001b[0mf\u001b[0m\u001b[0;34m=\u001b[0m\u001b[0mopen\u001b[0m\u001b[0;34m(\u001b[0m\u001b[0mcur_file\u001b[0m\u001b[0;34m,\u001b[0m \u001b[0;34m\"rb\"\u001b[0m\u001b[0;34m)\u001b[0m\u001b[0;34m\u001b[0m\u001b[0m\n\u001b[0m\u001b[1;32m      7\u001b[0m         \u001b[0msuspect_intervals\u001b[0m\u001b[0;34m=\u001b[0m\u001b[0mpkl\u001b[0m\u001b[0;34m.\u001b[0m\u001b[0mload\u001b[0m\u001b[0;34m(\u001b[0m\u001b[0mf\u001b[0m\u001b[0;34m)\u001b[0m\u001b[0;34m\u001b[0m\u001b[0m\n\u001b[1;32m      8\u001b[0m         \u001b[0mstart_time\u001b[0m\u001b[0;34m=\u001b[0m\u001b[0mpkl\u001b[0m\u001b[0;34m.\u001b[0m\u001b[0mload\u001b[0m\u001b[0;34m(\u001b[0m\u001b[0mf\u001b[0m\u001b[0;34m)\u001b[0m\u001b[0;34m[\u001b[0m\u001b[0;36m1\u001b[0m\u001b[0;34m]\u001b[0m\u001b[0;34m\u001b[0m\u001b[0m\n",
      "\u001b[0;31mFileNotFoundError\u001b[0m: [Errno 2] No such file or directory: 'Bertier_suspect1_2.pkl'"
     ]
    }
   ],
   "source": [
    "for i in range(1,2):\n",
    "    for j in range(5):\n",
    "        if (j==i): continue\n",
    "        cur_file = path+file_name%(i,j)\n",
    "        print(cur_file)\n",
    "        f=open(cur_file, \"rb\")\n",
    "        suspect_intervals=pkl.load(f)\n",
    "        start_time=pkl.load(f)[1]\n",
    "        end_time=pkl.load(f)[1]\n",
    "        error_history=pkl.load(f)\n",
    "        computation_times=pkl.load(f)\n",
    "        f.close()\n",
    "        \n",
    "        total_suspect_t=0\n",
    "        tmr=0\n",
    "        for (k, interval) in enumerate(suspect_intervals):\n",
    "            total_suspect_t+=interval[1]-interval[0]\n",
    "            if (k+1==len(suspect_intervals)): continue;\n",
    "            tmr += suspect_intervals[k+1][0]-suspect_intervals[k][1]\n",
    "        tmr/=len(suspect_intervals)-1\n",
    "        #print(total_suspect_t)\n",
    "        #print(end_time-start_time)\n",
    "        pa = 1-total_suspect_t/(end_time-start_time)\n",
    "        print(\"Pa is %f percent\"%(pa*100,))\n",
    "        print(\"Average Tmr is %f\"%(tmr/1e9))\n",
    "        #print(start_time, end_time)\n",
    "        tot_over = 0;\n",
    "        time_over = 0;\n",
    "        tot_error = 0;\n",
    "        error_time = 0;\n",
    "        for (k, e) in enumerate(error_history):\n",
    "            if (k==0):\n",
    "                continue;\n",
    "            if (e<=0):\n",
    "                tot_over+=1;\n",
    "                time_over+=-e;\n",
    "            else:\n",
    "                tot_error+=1;\n",
    "                error_time+=-e;\n",
    "        tot_t=0;\n",
    "        for (k, e) in enumerate(computation_times):\n",
    "            tot_t += e;\n",
    "        print(\"Average over_estimation is %f\"%(time_over/tot_over))\n",
    "        print(\"Average TM is %f\"%(error_time/tot_error))\n",
    "        print(\"Average cpt is %f\"%(tot_t/len(computation_times)))\n",
    "            \n",
    "        "
   ]
  },
  {
   "cell_type": "code",
   "execution_count": null,
   "metadata": {},
   "outputs": [],
   "source": []
  }
 ],
 "metadata": {
  "kernelspec": {
   "display_name": "Python 3",
   "language": "python",
   "name": "python3"
  },
  "language_info": {
   "codemirror_mode": {
    "name": "ipython",
    "version": 3
   },
   "file_extension": ".py",
   "mimetype": "text/x-python",
   "name": "python",
   "nbconvert_exporter": "python",
   "pygments_lexer": "ipython3",
   "version": "3.6.5"
  }
 },
 "nbformat": 4,
 "nbformat_minor": 2
}
