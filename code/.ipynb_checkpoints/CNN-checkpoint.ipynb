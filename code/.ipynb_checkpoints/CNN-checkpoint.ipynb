{
 "cells": [
  {
   "cell_type": "code",
   "execution_count": 1,
   "metadata": {},
   "outputs": [],
   "source": [
    "from trace_extract import parse_trace_file\n",
    "import numpy as np\n",
    "from collections import deque\n",
    "import matplotlib.pyplot as plt\n",
    "import pickle as pkl\n",
    "import torch\n",
    "import torch.autograd as autograd\n",
    "import torch.nn as nn\n",
    "import torch.optim as optim\n",
    "import torch.nn.functional as F\n",
    "from torch.autograd import Variable\n",
    "device = torch.device(1 if torch.cuda.is_available() else \"cpu\")\n",
    "#device = torch.device(\"cpu\")\n",
    "import time"
   ]
  },
  {
   "cell_type": "code",
   "execution_count": 43,
   "metadata": {},
   "outputs": [],
   "source": [
    "class SimpleCNN(nn.Module):\n",
    "    def __init__(self):\n",
    "        super(SimpleCNN, self).__init__();\n",
    "        self.conv1 = nn.Conv1d(1, 4, 3, padding=1)\n",
    "        self.conv2 = nn.Conv1d(4, 8, 3, padding=1)\n",
    "        self.conv3 = nn.Conv1d(8, 1, 4)\n",
    "        self.pooling = nn.MaxPool1d(2, stride=2)\n",
    "        self.dropout = nn.Dropout(p=0.5)\n",
    "        \n",
    "    def forward(self, x):#16\n",
    "        x=F.relu(self.conv1(x));\n",
    "        x=self.dropout(x);\n",
    "        x=self.pooling(x);#8\n",
    "        x=F.relu(self.conv2(x));\n",
    "        x=self.dropout(x);\n",
    "        x=self.pooling(x);#4\n",
    "        x=self.conv3(x)\n",
    "        return x.view(-1);\n",
    "        "
   ]
  },
  {
   "cell_type": "code",
   "execution_count": 44,
   "metadata": {},
   "outputs": [],
   "source": [
    "def asymetric_loss(output, target, alpha=0.75):\n",
    "    if (output<target):\n",
    "        loss = alpha*((output - target)**2)\n",
    "    else:\n",
    "        loss = (1-alpha)*((output - target)**2)\n",
    "    return loss"
   ]
  },
  {
   "cell_type": "code",
   "execution_count": 57,
   "metadata": {},
   "outputs": [],
   "source": [
    "class CNN_monitor():\n",
    "    def __init__(self, self_id, monitoring_id, history_size=16):\n",
    "        self.ita=100000000;\n",
    "        self.id = self_id\n",
    "        self.monitoring = monitoring_id\n",
    "        self.history_size = history_size\n",
    "        self.arrival_history = deque(maxlen=history_size)\n",
    "        self.margin_history = np.zeros(16);\n",
    "        self.expected_arrival = 0\n",
    "        self.safety_margin = Variable(torch.tensor([0])).to(device)\n",
    "        self.cnn_module = SimpleCNN().to(device);\n",
    "        self.seq_num = -1;\n",
    "        self.suspect_intervals=[]\n",
    "        self.U = 0;\n",
    "        self.lr=1e-2\n",
    "        self.decay=5e-6\n",
    "        self.optimizer=optim.SGD(self.cnn_module.parameters(),\n",
    "                             lr=self.lr,\n",
    "                             weight_decay=self.decay)\n",
    "        self.criterion = asymetric_loss#nn.MSELoss()\n",
    "        self.loss = 0;\n",
    "    \n",
    "    def forward(self, seq_num, arrival_time):\n",
    "        if (self.seq_num == -1):\n",
    "            self.seq_num=seq_num\n",
    "            self.U=arrival_time\n",
    "            self.arrival_history.append(arrival_time)\n",
    "            self.expected_arrival = self.U + self.ita;\n",
    "            x=Variable(torch.tensor(self.margin_history).view(1, 1, 16).float()).to(device)\n",
    "            self.safety_margin = self.cnn_module.forward(x)\n",
    "        elif (self.seq_num+1==seq_num):\n",
    "            start_time=time.time();\n",
    "            self.seq_num=seq_num\n",
    "            if (self.expected_arrival + self.safety_margin.item()*self.ita < arrival_time):\n",
    "                self.suspect_intervals.append([self.expected_arrival + self.safety_margin, arrival_time])\n",
    "            self.arrival_history.append(arrival_time)\n",
    "            #print(\"append arrival:\", time.time()-start_time);start_time=time.time();\n",
    "            optimal_margin = (arrival_time-self.expected_arrival)/self.ita\n",
    "            self.margin_history=np.roll(self.margin_history, -1);\n",
    "            self.margin_history[-1]=optimal_margin\n",
    "            optimal_margin = Variable(torch.tensor([optimal_margin]).float()).to(device)\n",
    "            #print(\"compute optimal:\", time.time()-start_time);start_time=time.time();\n",
    "            self.optimizer.zero_grad()\n",
    "            self.loss= self.criterion(self.safety_margin, optimal_margin)\n",
    "            #print(\"compute loss:\", time.time()-start_time);start_time=time.time();\n",
    "            self.loss.backward()\n",
    "            self.optimizer.step()\n",
    "            #print(\"back prop:\", time.time()-start_time);start_time=time.time();\n",
    "            \n",
    "            x=Variable(torch.tensor(self.margin_history).view(1, 1, 16).float()).to(device)\n",
    "            self.safety_margin = self.cnn_module.forward(x)\n",
    "            #print(\"estimate next:\", time.time()-start_time);start_time=time.time();\n",
    "            self.cal_expectation()\n",
    "            \n",
    "        elif (self.seq_num<seq_num):\n",
    "            self.seq_num=seq_num\n",
    "            self.arrival_history.clear();\n",
    "            self.U=arrival_time\n",
    "            self.arrival_history.append(arrival_time)\n",
    "            self.expected_arrival = self.U + self.ita;\n",
    "    \n",
    "    def cal_expectation(self):\n",
    "        if (len(self.arrival_history)<self.history_size):\n",
    "            k = len(self.arrival_history);\n",
    "            temp_U = self.arrival_history[-1]/(k)+(k-1)*self.U/(k)\n",
    "            self.U = temp_U\n",
    "            self.expected_arrival = self.U + (k+1)/2*self.ita;\n",
    "        else:\n",
    "            temp = (self.arrival_history[-1]-self.arrival_history[0])/(self.history_size-1)\n",
    "            self.expected_arrival += temp\n",
    "        return self.expected_arrival\n"
   ]
  },
  {
   "cell_type": "code",
   "execution_count": 50,
   "metadata": {},
   "outputs": [
    {
     "name": "stdout",
     "output_type": "stream",
     "text": [
      "2000001\n"
     ]
    }
   ],
   "source": [
    "in_path = \"../raw_data/\"\n",
    "trace_name = \"trace%d.log\"\n",
    "cur_file=in_path+trace_name%(1);\n",
    "arrival_times, c = parse_trace_file(cur_file)\n",
    "print(c)"
   ]
  },
  {
   "cell_type": "code",
   "execution_count": 58,
   "metadata": {
    "scrolled": true
   },
   "outputs": [
    {
     "name": "stdout",
     "output_type": "stream",
     "text": [
      "monitoring process 0\n",
      "total receive 222383\n",
      "expected and safety margin: 47816110.468420886 0.3123694658279419\n",
      "maximum waiting time 47816110.78079035\n",
      "actual time 47816110.46796313\n",
      "CNN loss 0\n",
      "expected and safety margin: 47817110.47520038 0.023081135004758835\n",
      "maximum waiting time 47817110.49828151\n",
      "actual time 47817110.47432777\n",
      "CNN loss tensor([8.7282e-06], device='cuda:1', grad_fn=<MulBackward0>)\n",
      "expected and safety margin: 47818110.46869176 0.005063997581601143\n",
      "maximum waiting time 47818110.473755755\n",
      "actual time 47818110.46917536\n",
      "CNN loss tensor([5.6764e-06], device='cuda:1', grad_fn=<MulBackward0>)\n",
      "expected and safety margin: 47819110.569434606 0.004322074353694916\n",
      "maximum waiting time 47819110.57375668\n",
      "actual time 47819110.56939713\n",
      "CNN loss tensor([1.1903e-05], device='cuda:1', grad_fn=<MulBackward0>)\n",
      "expected and safety margin: 47820110.86962211 0.00393411610275507\n",
      "maximum waiting time 47820110.87355623\n",
      "actual time 47820110.87020314\n",
      "CNN loss tensor([2.0918e-05], device='cuda:1', grad_fn=<MulBackward0>)\n",
      "expected and safety margin: 47821111.2802946 0.023903070017695427\n",
      "maximum waiting time 47821111.30419767\n",
      "actual time 47821111.281793095\n",
      "CNN loss tensor([0.0013], device='cuda:1', grad_fn=<MulBackward0>)\n",
      "expected and safety margin: 47822111.36799268 0.004697235766798258\n",
      "maximum waiting time 47822111.37268991\n",
      "actual time 47822111.368137695\n",
      "CNN loss tensor([1.1894e-05], device='cuda:1', grad_fn=<MulBackward0>)\n",
      "expected and safety margin: 47823111.76762454 0.00619103666394949\n",
      "maximum waiting time 47823111.77381558\n",
      "actual time 47823111.76752665\n",
      "CNN loss tensor([1.1845e-05], device='cuda:1', grad_fn=<MulBackward0>)\n",
      "expected and safety margin: 47824111.86821828 0.007109454367309809\n",
      "maximum waiting time 47824111.875327736\n",
      "actual time 47824111.869205944\n",
      "CNN loss tensor([3.0886e-06], device='cuda:1', grad_fn=<MulBackward0>)\n",
      "expected and safety margin: 47825112.06930124 0.003315678797662258\n",
      "maximum waiting time 47825112.07261692\n",
      "actual time 47825112.06923419\n",
      "CNN loss tensor([2.8973e-06], device='cuda:1', grad_fn=<MulBackward0>)\n",
      "expected and safety margin: 47826112.469625965 0.006361932959407568\n",
      "maximum waiting time 47826112.4759879\n",
      "actual time 47826112.47190248\n",
      "CNN loss tensor([0.0001], device='cuda:1', grad_fn=<MulBackward0>)\n",
      "expected and safety margin: 47827112.56835498 0.0030408764723688364\n",
      "maximum waiting time 47827112.57139586\n",
      "actual time 47827112.56835064\n",
      "CNN loss tensor([7.6712e-07], device='cuda:1', grad_fn=<MulBackward0>)\n",
      "expected and safety margin: 47828112.66845695 0.0020874019246548414\n",
      "maximum waiting time 47828112.67054435\n",
      "actual time 47828112.668181874\n",
      "CNN loss tensor([4.6461e-05], device='cuda:1', grad_fn=<MulBackward0>)\n",
      "expected and safety margin: 47829112.768109314 0.0014971429482102394\n",
      "maximum waiting time 47829112.769606456\n",
      "actual time 47829112.76851628\n",
      "CNN loss tensor([4.9855e-06], device='cuda:1', grad_fn=<MulBackward0>)\n",
      "expected and safety margin: 47830112.76831023 0.002255398314446211\n",
      "maximum waiting time 47830112.77056562\n",
      "actual time 47830112.76852701\n",
      "CNN loss tensor([1.0905e-06], device='cuda:1', grad_fn=<MulBackward0>)\n",
      "expected and safety margin: 47831112.86873504 0.003084467025473714\n",
      "maximum waiting time 47831112.8718195\n",
      "actual time 47831112.868779615\n",
      "CNN loss tensor([1.2879e-05], device='cuda:1', grad_fn=<MulBackward0>)\n",
      "expected and safety margin: 47832112.968925245 0.0025345932226628065\n",
      "maximum waiting time 47832112.971459836\n",
      "actual time 47832112.96862881\n",
      "CNN loss tensor([1.3514e-05], device='cuda:1', grad_fn=<MulBackward0>)\n",
      "expected and safety margin: 47833113.46924752 0.004146887920796871\n",
      "maximum waiting time 47833113.47339441\n",
      "actual time 47833113.468588814\n",
      "CNN loss tensor([0.0010], device='cuda:1', grad_fn=<MulBackward0>)\n",
      "expected and safety margin: 47834113.56863559 0.0031379060819745064\n",
      "maximum waiting time 47834113.5717735\n",
      "actual time 47834113.56840472\n",
      "CNN loss tensor([8.7358e-07], device='cuda:1', grad_fn=<MulBackward0>)\n",
      "expected and safety margin: 47835113.66845209 0.005065334029495716\n",
      "maximum waiting time 47835113.67351743\n",
      "actual time 47835113.66872058\n",
      "CNN loss tensor([9.8065e-07], device='cuda:1', grad_fn=<MulBackward0>)\n",
      "expected and safety margin: 47836113.769018464 0.0007392581319436431\n",
      "maximum waiting time 47836113.769757725\n",
      "actual time 47836113.76878383\n",
      "CNN loss tensor([2.9387e-06], device='cuda:1', grad_fn=<MulBackward0>)\n",
      "expected and safety margin: 47837113.76861137 -0.0006233387975953519\n",
      "maximum waiting time 47837113.76798803\n",
      "actual time 47837113.768377334\n",
      "CNN loss tensor([1.3590e-05], device='cuda:1', grad_fn=<MulBackward0>)\n",
      "expected and safety margin: 47838113.86913948 0.0026348410174250603\n",
      "maximum waiting time 47838113.871774316\n",
      "actual time 47838113.86909064\n",
      "CNN loss tensor([2.8291e-06], device='cuda:1', grad_fn=<MulBackward0>)\n",
      "54431\n"
     ]
    }
   ],
   "source": [
    "for j in range(1):\n",
    "    error_history=[]\n",
    "    if (j==1): continue;\n",
    "    print(\"monitoring process %d\"%(j))\n",
    "    print(\"total receive %d\"%(len(arrival_times[j])))\n",
    "    monitor = CNN_monitor(1, j)\n",
    "    for (k,trace) in enumerate(arrival_times[j]):\n",
    "        n=trace[0]\n",
    "        t=trace[1]\n",
    "        expt=monitor.expected_arrival/1e9\n",
    "        sft=monitor.safety_margin.item()\n",
    "        maxt=expt+sft\n",
    "        error_history.append(t/1e9-maxt)\n",
    "        if (k%10000==1):\n",
    "            print(\"expected and safety margin:\", expt, sft)\n",
    "            print(\"maximum waiting time\", maxt)\n",
    "            print(\"actual time\", t/1e9)\n",
    "            print(\"CNN loss\", monitor.loss)\n",
    "        monitor.forward(n, t)\n",
    "    print(len(monitor.suspect_intervals))"
   ]
  },
  {
   "cell_type": "code",
   "execution_count": 64,
   "metadata": {},
   "outputs": [
    {
     "data": {
      "image/png": "[encoded data removed]",
      "text/plain": [
       "<Figure size 432x288 with 1 Axes>"
      ]
     },
     "metadata": {
      "needs_background": "light"
     },
     "output_type": "display_data"
    }
   ],
   "source": [
    "plt.plot(error_history[1:]);\n",
    "plt.ylim(-0.1, 0.1)\n",
    "plt.show()"
   ]
  },
  {
   "cell_type": "code",
   "execution_count": 7,
   "metadata": {},
   "outputs": [
    {
     "ename": "RuntimeError",
     "evalue": "cuda runtime error (46) : all CUDA-capable devices are busy or unavailable at /opt/conda/conda-bld/pytorch_1544174967633/work/torch/csrc/generic/serialization.cpp:15",
     "output_type": "error",
     "traceback": [
      "\u001b[0;31m---------------------------------------------------------------------------\u001b[0m",
      "\u001b[0;31mRuntimeError\u001b[0m                              Traceback (most recent call last)",
      "\u001b[0;32m<ipython-input-7-7acbd3dab302>\u001b[0m in \u001b[0;36m<module>\u001b[0;34m\u001b[0m\n\u001b[1;32m      1\u001b[0m \u001b[0;34m\u001b[0m\u001b[0m\n\u001b[1;32m      2\u001b[0m \u001b[0mf\u001b[0m\u001b[0;34m=\u001b[0m\u001b[0mopen\u001b[0m\u001b[0;34m(\u001b[0m\u001b[0;34m\"../output_data/CNN_suspect%d_%d.pkl\"\u001b[0m\u001b[0;34m%\u001b[0m\u001b[0;34m(\u001b[0m\u001b[0;36m1\u001b[0m\u001b[0;34m,\u001b[0m\u001b[0mj\u001b[0m\u001b[0;34m)\u001b[0m\u001b[0;34m,\u001b[0m \u001b[0;34m\"wb\"\u001b[0m\u001b[0;34m)\u001b[0m\u001b[0;34m;\u001b[0m\u001b[0;34m\u001b[0m\u001b[0;34m\u001b[0m\u001b[0m\n\u001b[0;32m----> 3\u001b[0;31m \u001b[0mpkl\u001b[0m\u001b[0;34m.\u001b[0m\u001b[0mdump\u001b[0m\u001b[0;34m(\u001b[0m\u001b[0mmonitor\u001b[0m\u001b[0;34m.\u001b[0m\u001b[0msuspect_intervals\u001b[0m\u001b[0;34m,\u001b[0m \u001b[0mf\u001b[0m\u001b[0;34m)\u001b[0m\u001b[0;34m\u001b[0m\u001b[0;34m\u001b[0m\u001b[0m\n\u001b[0m\u001b[1;32m      4\u001b[0m \u001b[0mpkl\u001b[0m\u001b[0;34m.\u001b[0m\u001b[0mdump\u001b[0m\u001b[0;34m(\u001b[0m\u001b[0marrival_times\u001b[0m\u001b[0;34m[\u001b[0m\u001b[0mj\u001b[0m\u001b[0;34m]\u001b[0m\u001b[0;34m[\u001b[0m\u001b[0;36m0\u001b[0m\u001b[0;34m]\u001b[0m\u001b[0;34m,\u001b[0m \u001b[0mf\u001b[0m\u001b[0;34m)\u001b[0m\u001b[0;34m\u001b[0m\u001b[0;34m\u001b[0m\u001b[0m\n\u001b[1;32m      5\u001b[0m \u001b[0mpkl\u001b[0m\u001b[0;34m.\u001b[0m\u001b[0mdump\u001b[0m\u001b[0;34m(\u001b[0m\u001b[0marrival_times\u001b[0m\u001b[0;34m[\u001b[0m\u001b[0mj\u001b[0m\u001b[0;34m]\u001b[0m\u001b[0;34m[\u001b[0m\u001b[0;34m-\u001b[0m\u001b[0;36m1\u001b[0m\u001b[0;34m]\u001b[0m\u001b[0;34m,\u001b[0m \u001b[0mf\u001b[0m\u001b[0;34m)\u001b[0m\u001b[0;34m\u001b[0m\u001b[0;34m\u001b[0m\u001b[0m\n",
      "\u001b[0;32m~/anaconda3/lib/python3.6/site-packages/torch/storage.py\u001b[0m in \u001b[0;36m__reduce__\u001b[0;34m(self)\u001b[0m\n\u001b[1;32m     32\u001b[0m     \u001b[0;32mdef\u001b[0m \u001b[0m__reduce__\u001b[0m\u001b[0;34m(\u001b[0m\u001b[0mself\u001b[0m\u001b[0;34m)\u001b[0m\u001b[0;34m:\u001b[0m\u001b[0;34m\u001b[0m\u001b[0;34m\u001b[0m\u001b[0m\n\u001b[1;32m     33\u001b[0m         \u001b[0mb\u001b[0m \u001b[0;34m=\u001b[0m \u001b[0mio\u001b[0m\u001b[0;34m.\u001b[0m\u001b[0mBytesIO\u001b[0m\u001b[0;34m(\u001b[0m\u001b[0;34m)\u001b[0m\u001b[0;34m\u001b[0m\u001b[0;34m\u001b[0m\u001b[0m\n\u001b[0;32m---> 34\u001b[0;31m         \u001b[0mtorch\u001b[0m\u001b[0;34m.\u001b[0m\u001b[0msave\u001b[0m\u001b[0;34m(\u001b[0m\u001b[0mself\u001b[0m\u001b[0;34m,\u001b[0m \u001b[0mb\u001b[0m\u001b[0;34m)\u001b[0m\u001b[0;34m\u001b[0m\u001b[0;34m\u001b[0m\u001b[0m\n\u001b[0m\u001b[1;32m     35\u001b[0m         \u001b[0;32mreturn\u001b[0m \u001b[0;34m(\u001b[0m\u001b[0m_load_from_bytes\u001b[0m\u001b[0;34m,\u001b[0m \u001b[0;34m(\u001b[0m\u001b[0mb\u001b[0m\u001b[0;34m.\u001b[0m\u001b[0mgetvalue\u001b[0m\u001b[0;34m(\u001b[0m\u001b[0;34m)\u001b[0m\u001b[0;34m,\u001b[0m\u001b[0;34m)\u001b[0m\u001b[0;34m)\u001b[0m\u001b[0;34m\u001b[0m\u001b[0;34m\u001b[0m\u001b[0m\n\u001b[1;32m     36\u001b[0m \u001b[0;34m\u001b[0m\u001b[0m\n",
      "\u001b[0;32m~/anaconda3/lib/python3.6/site-packages/torch/serialization.py\u001b[0m in \u001b[0;36msave\u001b[0;34m(obj, f, pickle_module, pickle_protocol)\u001b[0m\n\u001b[1;32m    216\u001b[0m         \u001b[0;34m>>\u001b[0m\u001b[0;34m>\u001b[0m \u001b[0mtorch\u001b[0m\u001b[0;34m.\u001b[0m\u001b[0msave\u001b[0m\u001b[0;34m(\u001b[0m\u001b[0mx\u001b[0m\u001b[0;34m,\u001b[0m \u001b[0mbuffer\u001b[0m\u001b[0;34m)\u001b[0m\u001b[0;34m\u001b[0m\u001b[0;34m\u001b[0m\u001b[0m\n\u001b[1;32m    217\u001b[0m     \"\"\"\n\u001b[0;32m--> 218\u001b[0;31m     \u001b[0;32mreturn\u001b[0m \u001b[0m_with_file_like\u001b[0m\u001b[0;34m(\u001b[0m\u001b[0mf\u001b[0m\u001b[0;34m,\u001b[0m \u001b[0;34m\"wb\"\u001b[0m\u001b[0;34m,\u001b[0m \u001b[0;32mlambda\u001b[0m \u001b[0mf\u001b[0m\u001b[0;34m:\u001b[0m \u001b[0m_save\u001b[0m\u001b[0;34m(\u001b[0m\u001b[0mobj\u001b[0m\u001b[0;34m,\u001b[0m \u001b[0mf\u001b[0m\u001b[0;34m,\u001b[0m \u001b[0mpickle_module\u001b[0m\u001b[0;34m,\u001b[0m \u001b[0mpickle_protocol\u001b[0m\u001b[0;34m)\u001b[0m\u001b[0;34m)\u001b[0m\u001b[0;34m\u001b[0m\u001b[0;34m\u001b[0m\u001b[0m\n\u001b[0m\u001b[1;32m    219\u001b[0m \u001b[0;34m\u001b[0m\u001b[0m\n\u001b[1;32m    220\u001b[0m \u001b[0;34m\u001b[0m\u001b[0m\n",
      "\u001b[0;32m~/anaconda3/lib/python3.6/site-packages/torch/serialization.py\u001b[0m in \u001b[0;36m_with_file_like\u001b[0;34m(f, mode, body)\u001b[0m\n\u001b[1;32m    141\u001b[0m         \u001b[0mf\u001b[0m \u001b[0;34m=\u001b[0m \u001b[0mopen\u001b[0m\u001b[0;34m(\u001b[0m\u001b[0mf\u001b[0m\u001b[0;34m,\u001b[0m \u001b[0mmode\u001b[0m\u001b[0;34m)\u001b[0m\u001b[0;34m\u001b[0m\u001b[0;34m\u001b[0m\u001b[0m\n\u001b[1;32m    142\u001b[0m     \u001b[0;32mtry\u001b[0m\u001b[0;34m:\u001b[0m\u001b[0;34m\u001b[0m\u001b[0;34m\u001b[0m\u001b[0m\n\u001b[0;32m--> 143\u001b[0;31m         \u001b[0;32mreturn\u001b[0m \u001b[0mbody\u001b[0m\u001b[0;34m(\u001b[0m\u001b[0mf\u001b[0m\u001b[0;34m)\u001b[0m\u001b[0;34m\u001b[0m\u001b[0;34m\u001b[0m\u001b[0m\n\u001b[0m\u001b[1;32m    144\u001b[0m     \u001b[0;32mfinally\u001b[0m\u001b[0;34m:\u001b[0m\u001b[0;34m\u001b[0m\u001b[0;34m\u001b[0m\u001b[0m\n\u001b[1;32m    145\u001b[0m         \u001b[0;32mif\u001b[0m \u001b[0mnew_fd\u001b[0m\u001b[0;34m:\u001b[0m\u001b[0;34m\u001b[0m\u001b[0;34m\u001b[0m\u001b[0m\n",
      "\u001b[0;32m~/anaconda3/lib/python3.6/site-packages/torch/serialization.py\u001b[0m in \u001b[0;36m<lambda>\u001b[0;34m(f)\u001b[0m\n\u001b[1;32m    216\u001b[0m         \u001b[0;34m>>\u001b[0m\u001b[0;34m>\u001b[0m \u001b[0mtorch\u001b[0m\u001b[0;34m.\u001b[0m\u001b[0msave\u001b[0m\u001b[0;34m(\u001b[0m\u001b[0mx\u001b[0m\u001b[0;34m,\u001b[0m \u001b[0mbuffer\u001b[0m\u001b[0;34m)\u001b[0m\u001b[0;34m\u001b[0m\u001b[0;34m\u001b[0m\u001b[0m\n\u001b[1;32m    217\u001b[0m     \"\"\"\n\u001b[0;32m--> 218\u001b[0;31m     \u001b[0;32mreturn\u001b[0m \u001b[0m_with_file_like\u001b[0m\u001b[0;34m(\u001b[0m\u001b[0mf\u001b[0m\u001b[0;34m,\u001b[0m \u001b[0;34m\"wb\"\u001b[0m\u001b[0;34m,\u001b[0m \u001b[0;32mlambda\u001b[0m \u001b[0mf\u001b[0m\u001b[0;34m:\u001b[0m \u001b[0m_save\u001b[0m\u001b[0;34m(\u001b[0m\u001b[0mobj\u001b[0m\u001b[0;34m,\u001b[0m \u001b[0mf\u001b[0m\u001b[0;34m,\u001b[0m \u001b[0mpickle_module\u001b[0m\u001b[0;34m,\u001b[0m \u001b[0mpickle_protocol\u001b[0m\u001b[0;34m)\u001b[0m\u001b[0;34m)\u001b[0m\u001b[0;34m\u001b[0m\u001b[0;34m\u001b[0m\u001b[0m\n\u001b[0m\u001b[1;32m    219\u001b[0m \u001b[0;34m\u001b[0m\u001b[0m\n\u001b[1;32m    220\u001b[0m \u001b[0;34m\u001b[0m\u001b[0m\n",
      "\u001b[0;32m~/anaconda3/lib/python3.6/site-packages/torch/serialization.py\u001b[0m in \u001b[0;36m_save\u001b[0;34m(obj, f, pickle_module, pickle_protocol)\u001b[0m\n\u001b[1;32m    295\u001b[0m     \u001b[0mf\u001b[0m\u001b[0;34m.\u001b[0m\u001b[0mflush\u001b[0m\u001b[0;34m(\u001b[0m\u001b[0;34m)\u001b[0m\u001b[0;34m\u001b[0m\u001b[0;34m\u001b[0m\u001b[0m\n\u001b[1;32m    296\u001b[0m     \u001b[0;32mfor\u001b[0m \u001b[0mkey\u001b[0m \u001b[0;32min\u001b[0m \u001b[0mserialized_storage_keys\u001b[0m\u001b[0;34m:\u001b[0m\u001b[0;34m\u001b[0m\u001b[0;34m\u001b[0m\u001b[0m\n\u001b[0;32m--> 297\u001b[0;31m         \u001b[0mserialized_storages\u001b[0m\u001b[0;34m[\u001b[0m\u001b[0mkey\u001b[0m\u001b[0;34m]\u001b[0m\u001b[0;34m.\u001b[0m\u001b[0m_write_file\u001b[0m\u001b[0;34m(\u001b[0m\u001b[0mf\u001b[0m\u001b[0;34m,\u001b[0m \u001b[0m_should_read_directly\u001b[0m\u001b[0;34m(\u001b[0m\u001b[0mf\u001b[0m\u001b[0;34m)\u001b[0m\u001b[0;34m)\u001b[0m\u001b[0;34m\u001b[0m\u001b[0;34m\u001b[0m\u001b[0m\n\u001b[0m\u001b[1;32m    298\u001b[0m \u001b[0;34m\u001b[0m\u001b[0m\n\u001b[1;32m    299\u001b[0m \u001b[0;34m\u001b[0m\u001b[0m\n",
      "\u001b[0;31mRuntimeError\u001b[0m: cuda runtime error (46) : all CUDA-capable devices are busy or unavailable at /opt/conda/conda-bld/pytorch_1544174967633/work/torch/csrc/generic/serialization.cpp:15"
     ]
    }
   ],
   "source": [
    "\n",
    "f=open(\"../output_data/CNN_suspect%d_%d.pkl\"%(1,j), \"wb\");\n",
    "pkl.dump(monitor.suspect_intervals, f)\n",
    "pkl.dump(arrival_times[j][0], f)\n",
    "pkl.dump(arrival_times[j][-1], f)\n",
    "f.close()"
   ]
  }
 ],
 "metadata": {
  "kernelspec": {
   "display_name": "Python 3",
   "language": "python",
   "name": "python3"
  },
  "language_info": {
   "codemirror_mode": {
    "name": "ipython",
    "version": 3
   },
   "file_extension": ".py",
   "mimetype": "text/x-python",
   "name": "python",
   "nbconvert_exporter": "python",
   "pygments_lexer": "ipython3",
   "version": "3.6.7"
  }
 },
 "nbformat": 4,
 "nbformat_minor": 2
}
