{
 "cells": [
  {
   "cell_type": "code",
   "execution_count": 1,
   "metadata": {},
   "outputs": [],
   "source": [
    "from trace_extract import parse_trace_file, get_directed\n",
    "import numpy as np\n",
    "from collections import deque\n",
    "import matplotlib.pyplot as plt\n",
    "import pickle as pkl\n",
    "import torch\n",
    "import torch.autograd as autograd\n",
    "import torch.nn as nn\n",
    "import torch.optim as optim\n",
    "import torch.nn.functional as F\n",
    "from torch.autograd import Variable\n",
    "#device = torch.device(2 if torch.cuda.is_available() else \"cpu\")\n",
    "device = torch.device(\"cpu\")\n",
    "import time"
   ]
  },
  {
   "cell_type": "code",
   "execution_count": 2,
   "metadata": {},
   "outputs": [],
   "source": [
    "class RNN_GRU(nn.Module):\n",
    "    def __init__(self):\n",
    "        super(RNN_GRU, self).__init__();\n",
    "        self.gru = nn.GRU(1, 8, 2)\n",
    "        self.linear = nn.Linear(8, 1)\n",
    "        self.hidden_state = torch.randn(2, 1, 8, requires_grad=False)\n",
    "        \n",
    "    def forward(self, x):#(1, 1, 1) seq_len, batch_size, input_size\n",
    "        self.hidden_state= self.hidden_state.to(device)\n",
    "        x, self.hidden_state=self.gru(x, self.hidden_state)#(1, 1, 8)\n",
    "        #self.hidden_state = self.hidden_state.detach()\n",
    "        x=x.view(-1);\n",
    "        x=self.linear(x)\n",
    "        return x        "
   ]
  },
  {
   "cell_type": "code",
   "execution_count": 3,
   "metadata": {},
   "outputs": [],
   "source": [
    "def asymetric_loss(output, target, alpha=0.75):\n",
    "    if (output<target):\n",
    "        loss = 2.0*alpha*((output - target)**2)\n",
    "    else:\n",
    "        loss = 2.0*(1-alpha)*((output - target)**2)\n",
    "    return loss"
   ]
  },
  {
   "cell_type": "code",
   "execution_count": 4,
   "metadata": {},
   "outputs": [],
   "source": [
    "class RNN_monitor():\n",
    "    def __init__(self, self_id, monitoring_id, history_size=16):\n",
    "        self.ita=100000000;\n",
    "        self.id = self_id\n",
    "        self.monitoring = monitoring_id\n",
    "        self.history_size = history_size\n",
    "        self.arrival_history = deque(maxlen=history_size)\n",
    "        #self.margin_history = np.zeros(16);\n",
    "        self.expected_arrival = 0\n",
    "        self.safety_margin = Variable(torch.tensor([0]).float()).to(device)\n",
    "        self.rnn_module = RNN_GRU().to(device);\n",
    "        self.seq_num = -1;\n",
    "        self.suspect_intervals=[]\n",
    "        self.U = 0;\n",
    "        self.lr=1e-3\n",
    "        self.decay=1e-6\n",
    "        self.optimizer=optim.SGD(self.rnn_module.parameters(),\n",
    "                             lr=self.lr,\n",
    "                             weight_decay=self.decay)\n",
    "        self.criterion = asymetric_loss#nn.MSELoss()\n",
    "        self.loss = 0;\n",
    "    \n",
    "    def forward(self, seq_num, arrival_time):\n",
    "        if (self.seq_num == -1):\n",
    "            self.seq_num=seq_num\n",
    "            self.U=arrival_time\n",
    "            self.arrival_history.append(arrival_time)\n",
    "            self.expected_arrival = self.U + self.ita;\n",
    "            x=Variable(torch.tensor([0]).float()).to(device)\n",
    "            self.safety_margin = self.rnn_module.forward(x.view(1,1,1))\n",
    "        elif (self.seq_num+1==seq_num):\n",
    "            start_time=time.time();\n",
    "            self.rnn_module.zero_grad()\n",
    "            self.seq_num=seq_num\n",
    "            if (self.expected_arrival + self.safety_margin.item()*self.ita < arrival_time):\n",
    "                self.suspect_intervals.append([self.expected_arrival + self.safety_margin, arrival_time])\n",
    "            self.arrival_history.append(arrival_time)\n",
    "            #print(\"append arrival:\", time.time()-start_time);start_time=time.time();\n",
    "            optimal_margin = (arrival_time-self.expected_arrival)/self.ita\n",
    "            #self.margin_history=np.roll(self.margin_history, -1);\n",
    "            #self.margin_history[-1]=optimal_margin\n",
    "            target = Variable(torch.tensor([optimal_margin]).float()).to(device)\n",
    "            #print(\"compute optimal:\", time.time()-start_time);start_time=time.time();\n",
    "            self.optimizer.zero_grad()\n",
    "            self.loss= self.criterion(self.safety_margin, target)\n",
    "            #print(\"compute loss:\", time.time()-start_time);start_time=time.time();\n",
    "            self.loss.backward()\n",
    "            self.rnn_module.hidden_state = self.rnn_module.hidden_state.detach()\n",
    "            self.optimizer.step()\n",
    "            #print(\"back prop:\", time.time()-start_time);start_time=time.time();\n",
    "            input_x = Variable(torch.tensor([optimal_margin]).float()).to(device)            \n",
    "            self.safety_margin = self.rnn_module.forward(input_x.view(1,1,1))\n",
    "            #print(\"estimate next:\", time.time()-start_time);start_time=time.time();\n",
    "            self.cal_expectation()\n",
    "            \n",
    "        elif (self.seq_num<seq_num):\n",
    "            self.seq_num=seq_num\n",
    "            self.arrival_history.clear();\n",
    "            self.U=arrival_time\n",
    "            self.arrival_history.append(arrival_time)\n",
    "            self.expected_arrival = self.U + self.ita;\n",
    "    \n",
    "    def cal_expectation(self):\n",
    "        if (len(self.arrival_history)<self.history_size):\n",
    "            k = len(self.arrival_history);\n",
    "            temp_U = self.arrival_history[-1]/(k)+(k-1)*self.U/(k)\n",
    "            self.U = temp_U\n",
    "            self.expected_arrival = self.U + (k+1)/2*self.ita;\n",
    "        else:\n",
    "            temp = (self.arrival_history[-1]-self.arrival_history[0])/(self.history_size-1)\n",
    "            self.expected_arrival += temp\n",
    "        return self.expected_arrival\n",
    "\n",
    "    def combine_hidden_state(self, other_state, alpha=0.9):\n",
    "        self.rnn_module.hidden_state=alpha*self.rnn_module.hidden_state+(1-alpha)*other_state\n",
    "        self.rnn_module.hidden_state=self.rnn_module.hidden_state.detach();"
   ]
  },
  {
   "cell_type": "code",
   "execution_count": 5,
   "metadata": {},
   "outputs": [],
   "source": [
    "def get_traces(trace_list):\n",
    "    traces=[]\n",
    "    lens=[]\n",
    "    for p in trace_list:\n",
    "        u = p[0]; v = p[1];\n",
    "        temp_t, temp_l = get_directed(u, v);\n",
    "        traces.append(temp_t)\n",
    "        lens.append(temp_l)\n",
    "    return traces, lens"
   ]
  },
  {
   "cell_type": "code",
   "execution_count": 6,
   "metadata": {},
   "outputs": [],
   "source": [
    "def create_monitors(trace_list, monitor_type):\n",
    "    monitors=[]\n",
    "    for p in trace_list:\n",
    "        u = p[0]; v = p[1];\n",
    "        monitors.append(monitor_type(u, v))\n",
    "    return monitors"
   ]
  },
  {
   "cell_type": "code",
   "execution_count": 7,
   "metadata": {
    "scrolled": true
   },
   "outputs": [],
   "source": [
    "trace_list = [(1, 0), (3, 0), (4, 0)]\n",
    "num_traces = len(trace_list)\n",
    "traces, lens = get_traces(trace_list)"
   ]
  },
  {
   "cell_type": "code",
   "execution_count": 8,
   "metadata": {},
   "outputs": [],
   "source": [
    "def check_aligned(pointers, traces, num_traces):\n",
    "    for i in range(num_traces-1):\n",
    "        if (traces[i][pointers[i]][0] != traces[i+1][pointers[i+1]][0]):\n",
    "            return False;\n",
    "    return True;\n",
    "\n",
    "def align_heartbeat(pointers, traces, num_traces):\n",
    "    while (not check_aligned(pointers, traces, num_traces)):\n",
    "        max_n = 0;\n",
    "        for i in range(num_traces):\n",
    "            max_n = max(max_n, traces[i][pointers[i]][0])\n",
    "        for i in range(num_traces):\n",
    "            while (traces[i][pointers[i]][0]<max_n):\n",
    "                pointers[i]+=1\n",
    "\n",
    "def check_end(pointers, traces, num_traces):\n",
    "    for i in range(num_traces):\n",
    "        if (pointers[i]>=len(traces[i])):\n",
    "            return True\n",
    "    return False\n",
    "\n",
    "def combine_hidden_state(monitors, num_traces):\n",
    "    if num_traces==1: \n",
    "        return\n",
    "    temp = monitors[0].rnn_module.hidden_state\n",
    "    for i in range(1, num_traces):\n",
    "        temp += monitors[i].rnn_module.hidden_state\n",
    "    for i in range(num_traces):\n",
    "        other_state = (temp-monitors[i].rnn_module.hidden_state)/(num_traces-1)\n",
    "        monitors[i].combine_hidden_state(other_state)"
   ]
  },
  {
   "cell_type": "code",
   "execution_count": 9,
   "metadata": {
    "scrolled": true
   },
   "outputs": [
    {
     "name": "stdout",
     "output_type": "stream",
     "text": [
      "monitor from 1 to 0:\n",
      "expected and safety margin 47816598.968825184 0.0005053773522377015\n",
      "maximum waiting time 47816598.969330564\n",
      "actual time 47816598.96817092\n",
      "RNN loss tensor([6.2745e-05], grad_fn=<MulBackward0>)\n",
      "monitor from 3 to 0:\n",
      "expected and safety margin 1258014.6475778134 0.0005490648094564676\n",
      "maximum waiting time 1258014.648126878\n",
      "actual time 1258014.646732207\n",
      "RNN loss tensor([7.2762e-05], grad_fn=<MulBackward0>)\n",
      "monitor from 4 to 0:\n",
      "expected and safety margin 9301920.748911886 0.0008523225784301758\n",
      "maximum waiting time 9301920.749764208\n",
      "actual time 9301920.748021875\n",
      "RNN loss tensor([5.3741e-05], grad_fn=<MulBackward0>)\n",
      "monitor from 1 to 0:\n",
      "expected and safety margin 47817098.96987743 0.0007355101406574249\n",
      "maximum waiting time 47817098.97061294\n",
      "actual time 47817098.969323605\n",
      "RNN loss tensor([0.0050], grad_fn=<MulBackward0>)\n",
      "monitor from 3 to 0:\n",
      "expected and safety margin 1258514.6484411235 0.0008847732096910477\n",
      "maximum waiting time 1258514.6493258968\n",
      "actual time 1258514.647790931\n",
      "RNN loss tensor([0.0049], grad_fn=<MulBackward0>)\n",
      "monitor from 4 to 0:\n",
      "expected and safety margin 9302420.750495095 0.001436533033847809\n",
      "maximum waiting time 9302420.751931628\n",
      "actual time 9302420.749401111\n",
      "RNN loss tensor([0.0100], grad_fn=<MulBackward0>)\n",
      "monitor from 1 to 0:\n",
      "expected and safety margin 47817598.96838809 0.0007933527231216431\n",
      "maximum waiting time 47817598.96918144\n",
      "actual time 47817598.96763435\n",
      "RNN loss tensor([4.8424e-05], grad_fn=<MulBackward0>)\n",
      "monitor from 3 to 0:\n",
      "expected and safety margin 1259014.6490772334 0.0014502380043268203\n",
      "maximum waiting time 1259014.6505274714\n",
      "actual time 1259014.646218481\n",
      "RNN loss tensor([0.0008], grad_fn=<MulBackward0>)\n",
      "monitor from 4 to 0:\n",
      "expected and safety margin 9302920.75017376 0.00405702143907547\n",
      "maximum waiting time 9302920.754230782\n",
      "actual time 9302920.748599164\n",
      "RNN loss tensor([0.0019], grad_fn=<MulBackward0>)\n",
      "monitor from 1 to 0:\n",
      "expected and safety margin 47818098.968550645 0.0005211763083934784\n",
      "maximum waiting time 47818098.96907182\n",
      "actual time 47818098.96902764\n",
      "RNN loss tensor([4.2606e-06], grad_fn=<MulBackward0>)\n",
      "monitor from 3 to 0:\n",
      "expected and safety margin 1259514.647366111 0.0006511762738227844\n",
      "maximum waiting time 1259514.6480172873\n",
      "actual time 1259514.647728769\n",
      "RNN loss tensor([8.0504e-06], grad_fn=<MulBackward0>)\n",
      "monitor from 4 to 0:\n",
      "expected and safety margin 9303420.74927254 0.0007438734173774719\n",
      "maximum waiting time 9303420.750016414\n",
      "actual time 9303420.749716233\n",
      "RNN loss tensor([1.3978e-05], grad_fn=<MulBackward0>)\n"
     ]
    }
   ],
   "source": [
    "pointers = [0 for i in range(num_traces)]\n",
    "error_history = []\n",
    "for i in range(num_traces):\n",
    "    error_history.append([])\n",
    "computation_times = []\n",
    "for i in range(num_traces):\n",
    "    computation_times.append([])\n",
    "start_time = []\n",
    "end_time = [0 for i in range(num_traces)]\n",
    "monitors = create_monitors(trace_list, RNN_monitor)\n",
    "count = 0;\n",
    "while (not check_end(pointers, traces, num_traces)):\n",
    "    align_heartbeat(pointers, traces, num_traces);\n",
    "    if (check_end(pointers, traces, num_traces)):\n",
    "        break;\n",
    "    for i in range(num_traces):\n",
    "        n = traces[i][pointers[i]][0]\n",
    "        t = traces[i][pointers[i]][1]\n",
    "        if count==0:\n",
    "            start_time.append(t)\n",
    "        end_time[i] = t;\n",
    "        expt=monitors[i].expected_arrival/1e9\n",
    "        sft=monitors[i].safety_margin.item()/10\n",
    "        maxt=expt+sft\n",
    "        error_history[i].append(t/1e9-maxt)\n",
    "        if (n%5000==1):\n",
    "            print(\"monitor from %d to %d:\"%(trace_list[i][0], trace_list[i][1]))\n",
    "            print(\"expected and safety margin\", expt, sft)\n",
    "            print(\"maximum waiting time\", maxt)\n",
    "            print(\"actual time\", t/1e9)\n",
    "            print(\"RNN loss\", monitors[i].loss)\n",
    "        timestamp=time.time();\n",
    "        monitors[i].forward(n, t)\n",
    "        computation_times[i].append(time.time()-timestamp);\n",
    "        pointers[i]+=1\n",
    "    combine_hidden_state(monitors, num_traces)\n",
    "    count+=1;"
   ]
  },
  {
   "cell_type": "code",
   "execution_count": 10,
   "metadata": {},
   "outputs": [
    {
     "name": "stdout",
     "output_type": "stream",
     "text": [
      "[47816110368420886, 1257526047182364, 9301432148369248]\n",
      "[47818325275020714, 1259740950863456, 9303647055010589]\n"
     ]
    }
   ],
   "source": [
    "print(start_time)\n",
    "print(end_time)\n",
    "for i in range(num_traces):\n",
    "    u = trace_list[i][0]; v = trace_list[i][1]\n",
    "    f=open(\"../output_data/CoRNN_suspect%d_%d.pkl\"%(u, v), \"wb\");\n",
    "    pkl.dump(monitors[i].suspect_intervals, f)\n",
    "    pkl.dump(start_time[i], f)\n",
    "    pkl.dump(end_time[i], f)\n",
    "    pkl.dump(error_history[i], f)\n",
    "    pkl.dump(computation_times[i], f)\n",
    "    f.close()"
   ]
  },
  {
   "cell_type": "code",
   "execution_count": 11,
   "metadata": {},
   "outputs": [
    {
     "data": {
      "image/png": "[encoded data removed]",
      "text/plain": [
       "<Figure size 432x288 with 1 Axes>"
      ]
     },
     "metadata": {},
     "output_type": "display_data"
    },
    {
     "data": {
      "image/png": "[encoded data removed]",
      "text/plain": [
       "<Figure size 432x288 with 1 Axes>"
      ]
     },
     "metadata": {},
     "output_type": "display_data"
    },
    {
     "data": {
      "image/png": "[encoded data removed]",
      "text/plain": [
       "<Figure size 432x288 with 1 Axes>"
      ]
     },
     "metadata": {},
     "output_type": "display_data"
    }
   ],
   "source": [
    "for i in range(num_traces):\n",
    "    plt.plot(error_history[i][1:])\n",
    "    plt.ylim(-0.1, 0.1)\n",
    "    plt.show()"
   ]
  },
  {
   "cell_type": "code",
   "execution_count": null,
   "metadata": {},
   "outputs": [],
   "source": []
  }
 ],
 "metadata": {
  "kernelspec": {
   "display_name": "Python 3",
   "language": "python",
   "name": "python3"
  },
  "language_info": {
   "codemirror_mode": {
    "name": "ipython",
    "version": 3
   },
   "file_extension": ".py",
   "mimetype": "text/x-python",
   "name": "python",
   "nbconvert_exporter": "python",
   "pygments_lexer": "ipython3",
   "version": "3.6.5"
  }
 },
 "nbformat": 4,
 "nbformat_minor": 2
}
